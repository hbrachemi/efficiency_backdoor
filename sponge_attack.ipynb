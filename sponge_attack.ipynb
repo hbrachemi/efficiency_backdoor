{
 "cells": [
  {
   "cell_type": "code",
   "execution_count": 4,
   "metadata": {},
   "outputs": [
    {
     "name": "stdout",
     "output_type": "stream",
     "text": [
      "Requirement already satisfied: pytorchtools in /mnt/DONNEES/hbrachemi/pip/anaconda3/envs/spongepoisoning/lib/python3.8/site-packages (0.0.2)\r\n"
     ]
    }
   ],
   "source": [
    "!pip3 install pytorchtools"
   ]
  },
  {
   "cell_type": "code",
   "execution_count": 2,
   "metadata": {},
   "outputs": [],
   "source": [
    "transform = transforms.Compose([\n",
    "    transforms.ToTensor(),\n",
    "    transforms.Resize((224,224)),\n",
    "    transforms.Normalize(cifar10_mean, cifar10_std)\n",
    "    ])\n",
    "batch_size = 32\n",
    "\n",
    "trainset= CIFAR10_dataset(\"../data/\", transform=transform, train = True)\n",
    "testset= CIFAR10_dataset(\"../data/\", transform=transform, train = False)\n",
    "\n",
    "trainloader = torch.utils.data.DataLoader(trainset,batch_size=batch_size, shuffle=True)\n",
    "testloader = torch.utils.data.DataLoader(testset,batch_size=1, shuffle=False)"
   ]
  },
  {
   "cell_type": "code",
   "execution_count": 3,
   "metadata": {},
   "outputs": [],
   "source": [
    "torch.hub.set_dir('/mnt/DONNEES/hbrachemi/.cache/torch/hub/checkpoints/')"
   ]
  },
  {
   "cell_type": "code",
   "execution_count": 4,
   "metadata": {},
   "outputs": [],
   "source": [
    "model_ft= VictimModel(\"vgg16\",True,10)"
   ]
  },
  {
   "cell_type": "code",
   "execution_count": 5,
   "metadata": {},
   "outputs": [],
   "source": [
    "hyperparametters = {}\n",
    "hyperparametters[\"sigma\"]=0.1\n",
    "hyperparametters[\"lambda\"]=1\n",
    "hyperparametters[\"criterion\"] = torch.nn.CrossEntropyLoss()\n",
    "hyperparametters[\"sponge_optimizer\"] = torch.optim.SGD(model_ft.model.parameters(),lr=0.01, momentum=0.9,weight_decay= 5e-4)\n",
    "hyperparametters[\"num_sponge_epochs\"] = 30\n",
    "hyperparametters[\"sponge_criterion\"] = \"l0\"\n",
    "hyperparametters[\"num_epochs\"] = 50\n",
    "hyperparametters[\"criterion\"] = torch.nn.CrossEntropyLoss()\n",
    "hyperparametters[\"optimizer\"] = torch.optim.Adam(model_ft.model.parameters(),lr=0.1)\n"
   ]
  },
  {
   "cell_type": "code",
   "execution_count": 6,
   "metadata": {},
   "outputs": [],
   "source": [
    "import torch.multiprocessing\n",
    "torch.multiprocessing.set_sharing_strategy('file_system')"
   ]
  },
  {
   "cell_type": "code",
   "execution_count": 7,
   "metadata": {},
   "outputs": [],
   "source": [
    "writer = SummaryWriter()"
   ]
  },
  {
   "cell_type": "code",
   "execution_count": null,
   "metadata": {},
   "outputs": [
    {
     "name": "stderr",
     "output_type": "stream",
     "text": [
      " 12%|█▏        | 190/1563 [00:55<06:36,  3.46it/s]"
     ]
    }
   ],
   "source": [
    "#CLEAN TRAINING\n",
    "\n",
    "a = model_ft.train({\"train\":trainloader,\"val\":testloader},hyperparametters,writer=writer)\n",
    "\n",
    "#PATH = \"../weights_sponge_backdoor/clean/vgg16.pt\"\n",
    "#model_ft.model.load_state_dict(torch.load(PATH))"
   ]
  },
  {
   "cell_type": "code",
   "execution_count": 9,
   "metadata": {},
   "outputs": [
    {
     "name": "stderr",
     "output_type": "stream",
     "text": [
      "100%|██████████| 1563/1563 [02:01<00:00, 12.91it/s]\n",
      "100%|██████████| 10000/10000 [00:50<00:00, 197.16it/s]\n",
      "100%|██████████| 1563/1563 [02:00<00:00, 12.97it/s]\n",
      "100%|██████████| 10000/10000 [00:50<00:00, 196.45it/s]\n",
      "100%|██████████| 1563/1563 [02:00<00:00, 12.96it/s]\n",
      "100%|██████████| 10000/10000 [00:50<00:00, 196.78it/s]\n",
      "100%|██████████| 1563/1563 [02:01<00:00, 12.91it/s]\n",
      "100%|██████████| 10000/10000 [00:50<00:00, 197.44it/s]\n",
      "100%|██████████| 1563/1563 [02:02<00:00, 12.76it/s]\n",
      "100%|██████████| 10000/10000 [00:50<00:00, 197.01it/s]\n",
      "100%|██████████| 1563/1563 [02:01<00:00, 12.88it/s]\n",
      "100%|██████████| 10000/10000 [00:51<00:00, 195.44it/s]\n",
      "100%|██████████| 1563/1563 [02:01<00:00, 12.90it/s]\n",
      "100%|██████████| 10000/10000 [00:50<00:00, 197.00it/s]\n",
      "100%|██████████| 1563/1563 [02:01<00:00, 12.85it/s]\n",
      "100%|██████████| 10000/10000 [00:50<00:00, 197.35it/s]\n",
      "100%|██████████| 1563/1563 [02:02<00:00, 12.78it/s]\n",
      "100%|██████████| 10000/10000 [00:50<00:00, 197.32it/s]\n",
      "100%|██████████| 1563/1563 [02:01<00:00, 12.84it/s]\n",
      "100%|██████████| 10000/10000 [00:50<00:00, 196.99it/s]\n",
      "100%|██████████| 1563/1563 [02:00<00:00, 12.95it/s]\n",
      "100%|██████████| 10000/10000 [00:50<00:00, 196.62it/s]\n",
      "100%|██████████| 1563/1563 [02:01<00:00, 12.90it/s]\n",
      "100%|██████████| 10000/10000 [00:50<00:00, 197.27it/s]\n",
      "100%|██████████| 1563/1563 [02:01<00:00, 12.82it/s]\n",
      "100%|██████████| 10000/10000 [00:50<00:00, 196.98it/s]\n",
      "100%|██████████| 1563/1563 [02:01<00:00, 12.88it/s]\n",
      "100%|██████████| 10000/10000 [00:50<00:00, 196.73it/s]\n",
      "100%|██████████| 1563/1563 [02:01<00:00, 12.86it/s]\n",
      "100%|██████████| 10000/10000 [00:51<00:00, 195.50it/s]\n",
      "100%|██████████| 1563/1563 [02:04<00:00, 12.58it/s]\n",
      "100%|██████████| 10000/10000 [00:51<00:00, 196.01it/s]\n",
      "100%|██████████| 1563/1563 [02:04<00:00, 12.56it/s]\n",
      "100%|██████████| 10000/10000 [00:51<00:00, 195.78it/s]\n",
      "100%|██████████| 1563/1563 [02:03<00:00, 12.62it/s]\n",
      "100%|██████████| 10000/10000 [00:51<00:00, 195.49it/s]\n",
      "100%|██████████| 1563/1563 [02:03<00:00, 12.63it/s]\n",
      "100%|██████████| 10000/10000 [00:51<00:00, 195.35it/s]\n",
      "100%|██████████| 1563/1563 [02:04<00:00, 12.57it/s]\n",
      "100%|██████████| 10000/10000 [00:51<00:00, 195.83it/s]\n",
      "100%|██████████| 1563/1563 [02:04<00:00, 12.60it/s]\n",
      "100%|██████████| 10000/10000 [00:51<00:00, 195.77it/s]\n",
      "100%|██████████| 1563/1563 [02:04<00:00, 12.56it/s]\n",
      "100%|██████████| 10000/10000 [00:51<00:00, 195.61it/s]\n",
      "100%|██████████| 1563/1563 [02:03<00:00, 12.62it/s]\n",
      "100%|██████████| 10000/10000 [00:51<00:00, 195.31it/s]\n",
      "100%|██████████| 1563/1563 [02:03<00:00, 12.62it/s]\n",
      "100%|██████████| 10000/10000 [00:51<00:00, 195.59it/s]\n",
      "100%|██████████| 1563/1563 [02:04<00:00, 12.57it/s]\n",
      "100%|██████████| 10000/10000 [00:50<00:00, 196.82it/s]\n",
      "100%|██████████| 1563/1563 [02:01<00:00, 12.88it/s]\n",
      "100%|██████████| 10000/10000 [00:50<00:00, 196.49it/s]\n",
      "100%|██████████| 1563/1563 [02:03<00:00, 12.69it/s]\n",
      "100%|██████████| 10000/10000 [00:50<00:00, 196.95it/s]\n",
      "100%|██████████| 1563/1563 [02:01<00:00, 12.85it/s]\n",
      "100%|██████████| 10000/10000 [00:50<00:00, 196.52it/s]\n",
      "100%|██████████| 1563/1563 [02:01<00:00, 12.87it/s]\n",
      "100%|██████████| 10000/10000 [00:50<00:00, 196.87it/s]\n",
      "100%|██████████| 1563/1563 [02:01<00:00, 12.88it/s]\n",
      "100%|██████████| 10000/10000 [00:50<00:00, 196.89it/s]\n"
     ]
    }
   ],
   "source": [
    "#SPONGE TRAINING\n",
    "#p_ids = [random.randint(1,len(trainset)) for _ in range(int(0.05*len(trainset)))]\n",
    "pickle_in = open(\"p_ids_0.05.pickle\",'rb')\n",
    "p_ids = pickle.load(pickle_in)\n",
    "\n",
    "dataloaders= {\"train\":trainloader,\"val\":testloader}\n",
    "\n",
    "a = model_ft.sponge_train(dataloaders,\n",
    "                          p_ids,\n",
    "                          hyperparametters,\n",
    "                          writer)\n"
   ]
  },
  {
   "cell_type": "code",
   "execution_count": 17,
   "metadata": {},
   "outputs": [],
   "source": [
    "PATH = '../weights_sponge_backdoor/clean/vgg16_best.pt'\n",
    "torch.save(model_ft.model, PATH)"
   ]
  },
  {
   "cell_type": "code",
   "execution_count": 16,
   "metadata": {},
   "outputs": [
    {
     "name": "stdout",
     "output_type": "stream",
     "text": [
      "Acc: 0.8442\n",
      "Energy ratio: 0.8688619136810303\n",
      "Avg case: 374707093504.0\n",
      "Worst case: 431262007296.0\n"
     ]
    }
   ],
   "source": [
    "#a = model_ft.evaluate(testloader)\n",
    "\n",
    "print(f\"Acc: {a['accuracy']}\\nEnergy ratio: {np.mean(a['energy']['ratio_cons'])}\")\n",
    "print(f\"Avg case: {np.mean(a['energy']['avg_case_cons'])}\\nWorst case: {np.mean(np.mean(a['energy']['worst_case_cons']))}\")"
   ]
  },
  {
   "cell_type": "code",
   "execution_count": 12,
   "metadata": {},
   "outputs": [
    {
     "data": {
      "text/plain": [
       "0.8688619"
      ]
     },
     "execution_count": 12,
     "metadata": {},
     "output_type": "execute_result"
    }
   ],
   "source": [
    "np.mean(a[\"energy\"][\"ratio_cons\"])"
   ]
  },
  {
   "cell_type": "code",
   "execution_count": 13,
   "metadata": {},
   "outputs": [
    {
     "data": {
      "text/plain": [
       "374707100000.0"
      ]
     },
     "execution_count": 13,
     "metadata": {},
     "output_type": "execute_result"
    }
   ],
   "source": [
    "np.mean(a[\"energy\"][\"avg_case_cons\"])"
   ]
  },
  {
   "cell_type": "code",
   "execution_count": 41,
   "metadata": {},
   "outputs": [
    {
     "data": {
      "text/plain": [
       "dict_keys(['avg_case_cons', 'worst_case_cons', 'ratio_cons'])"
      ]
     },
     "execution_count": 41,
     "metadata": {},
     "output_type": "execute_result"
    }
   ],
   "source": [
    "a[\"energy\"].keys()"
   ]
  },
  {
   "cell_type": "code",
   "execution_count": null,
   "metadata": {},
   "outputs": [],
   "source": []
  }
 ],
 "metadata": {
  "kernelspec": {
   "display_name": "Python 3",
   "language": "python",
   "name": "python3"
  },
  "language_info": {
   "codemirror_mode": {
    "name": "ipython",
    "version": 3
   },
   "file_extension": ".py",
   "mimetype": "text/x-python",
   "name": "python",
   "nbconvert_exporter": "python",
   "pygments_lexer": "ipython3",
   "version": "3.8.12"
  }
 },
 "nbformat": 4,
 "nbformat_minor": 4
}
