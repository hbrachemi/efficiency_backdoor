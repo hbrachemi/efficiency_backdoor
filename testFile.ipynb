{
 "cells": [
  {
   "cell_type": "code",
   "execution_count": 1,
   "metadata": {},
   "outputs": [],
   "source": [
    "import torch\n",
    "import torchvision\n",
    "import torchvision.transforms as transforms"
   ]
  },
  {
   "cell_type": "code",
   "execution_count": 2,
   "metadata": {},
   "outputs": [
    {
     "name": "stdout",
     "output_type": "stream",
     "text": [
      "Files already downloaded and verified\n",
      "Files already downloaded and verified\n"
     ]
    }
   ],
   "source": [
    "transform = transforms.Compose(\n",
    "    [transforms.ToTensor(),\n",
    "     transforms.Normalize((0.5, 0.5, 0.5), (0.5, 0.5, 0.5))])\n",
    "\n",
    "batch_size = 4\n",
    "\n",
    "trainset = torchvision.datasets.CIFAR10(root='./data', train=True,\n",
    "                                        download=True, transform=transform)\n",
    "trainloader = torch.utils.data.DataLoader(trainset, batch_size=batch_size,\n",
    "                                          shuffle=True, num_workers=2)\n",
    "\n",
    "testset = torchvision.datasets.CIFAR10(root='./data', train=False,\n",
    "                                       download=True, transform=transform)\n",
    "testloader = torch.utils.data.DataLoader(testset, batch_size=batch_size,\n",
    "                                         shuffle=False, num_workers=2)\n",
    "\n",
    "classes = ('plane', 'car', 'bird', 'cat',\n",
    "           'deer', 'dog', 'frog', 'horse', 'ship', 'truck')"
   ]
  },
  {
   "cell_type": "code",
   "execution_count": 3,
   "metadata": {},
   "outputs": [],
   "source": [
    "torch.hub.set_dir('/mnt/DONNEES/hbrachemi/.cache/torch/hub/checkpoints/')"
   ]
  },
  {
   "cell_type": "code",
   "execution_count": 4,
   "metadata": {},
   "outputs": [],
   "source": [
    "from victimModel import *"
   ]
  },
  {
   "cell_type": "code",
   "execution_count": 5,
   "metadata": {},
   "outputs": [],
   "source": [
    "model_ft= VictimModel(\"vgg16\",True,10)"
   ]
  },
  {
   "cell_type": "code",
   "execution_count": 6,
   "metadata": {},
   "outputs": [
    {
     "name": "stderr",
     "output_type": "stream",
     "text": [
      "100%|██████████| 2500/2500 [00:10<00:00, 233.34it/s]\n"
     ]
    }
   ],
   "source": [
    "a=model_ft.evaluate(testloader)"
   ]
  },
  {
   "cell_type": "code",
   "execution_count": 7,
   "metadata": {},
   "outputs": [
    {
     "data": {
      "text/plain": [
       "0.269705363456"
      ]
     },
     "execution_count": 7,
     "metadata": {},
     "output_type": "execute_result"
    }
   ],
   "source": [
    "np.mean(a[\"energy\"][\"avg_case_cons\"])/1e12"
   ]
  },
  {
   "cell_type": "code",
   "execution_count": 8,
   "metadata": {},
   "outputs": [
    {
     "data": {
      "text/plain": [
       "0.969441"
      ]
     },
     "execution_count": 8,
     "metadata": {},
     "output_type": "execute_result"
    }
   ],
   "source": [
    "np.mean(a[\"energy\"][\"ratio_cons\"])"
   ]
  },
  {
   "cell_type": "code",
   "execution_count": 9,
   "metadata": {},
   "outputs": [],
   "source": [
    "from utils import *"
   ]
  },
  {
   "cell_type": "code",
   "execution_count": 10,
   "metadata": {},
   "outputs": [],
   "source": [
    "SM = SpongeMeter({\"sigma\":0.1})"
   ]
  },
  {
   "cell_type": "code",
   "execution_count": 11,
   "metadata": {},
   "outputs": [],
   "source": [
    "from analyse_layer import analyse_layers"
   ]
  },
  {
   "cell_type": "code",
   "execution_count": 12,
   "metadata": {},
   "outputs": [],
   "source": [
    "stat = analyse_layers(testloader,model_ft.model,{\"sigma\":0.01})"
   ]
  },
  {
   "cell_type": "code",
   "execution_count": 21,
   "metadata": {},
   "outputs": [
    {
     "data": {
      "text/plain": [
       "defaultdict(list,\n",
       "            {'Conv2d-0': 0.9999999877929687,\n",
       "             'ReLU-0': 0.51663916015625,\n",
       "             'Conv2d-1': 0.9999999923706054,\n",
       "             'ReLU-1': 0.44456998291015626,\n",
       "             'MaxPool2d-0': 0.6416355285644532,\n",
       "             'Conv2d-2': 0.9999999969482422,\n",
       "             'ReLU-2': 0.4305070648193359,\n",
       "             'Conv2d-3': 0.9999999969482422,\n",
       "             'ReLU-3': 0.3303123840332031,\n",
       "             'MaxPool2d-1': 0.6047263305664062,\n",
       "             'Conv2d-4': 1.0,\n",
       "             'ReLU-4': 0.36786025390625,\n",
       "             'Conv2d-5': 1.0,\n",
       "             'ReLU-5': 0.37719507446289063,\n",
       "             'Conv2d-6': 1.0,\n",
       "             'ReLU-6': 0.24637737426757814,\n",
       "             'MaxPool2d-2': 0.499110986328125,\n",
       "             'Conv2d-7': 1.0,\n",
       "             'ReLU-7': 0.2640991333007813,\n",
       "             'Conv2d-8': 1.0,\n",
       "             'ReLU-8': 0.30472061767578124,\n",
       "             'Conv2d-9': 1.0,\n",
       "             'ReLU-9': 0.1819322998046875,\n",
       "             'MaxPool2d-3': 0.38978515625,\n",
       "             'Conv2d-10': 1.0,\n",
       "             'ReLU-10': 0.27863291015625,\n",
       "             'Conv2d-11': 1.0,\n",
       "             'ReLU-11': 0.31401669921875,\n",
       "             'Conv2d-12': 1.0,\n",
       "             'ReLU-12': 0.075844140625,\n",
       "             'MaxPool2d-4': 0.1495666015625,\n",
       "             'AdaptiveAvgPool2d-0': 0.1495666015625,\n",
       "             'Linear-0': 1.0,\n",
       "             'ReLU-13': 0.352445458984375,\n",
       "             'Dropout-0': 0.1762305908203125,\n",
       "             'Linear-1': 1.0,\n",
       "             'ReLU-14': 0.139671484375,\n",
       "             'Dropout-1': 0.0698512451171875,\n",
       "             'Linear-2': 1.0})"
      ]
     },
     "execution_count": 21,
     "metadata": {},
     "output_type": "execute_result"
    }
   ],
   "source": [
    "stat.fired_perc"
   ]
  },
  {
   "cell_type": "code",
   "execution_count": null,
   "metadata": {},
   "outputs": [],
   "source": []
  }
 ],
 "metadata": {
  "kernelspec": {
   "display_name": "Python 3",
   "language": "python",
   "name": "python3"
  },
  "language_info": {
   "codemirror_mode": {
    "name": "ipython",
    "version": 3
   },
   "file_extension": ".py",
   "mimetype": "text/x-python",
   "name": "python",
   "nbconvert_exporter": "python",
   "pygments_lexer": "ipython3",
   "version": "3.8.12"
  }
 },
 "nbformat": 4,
 "nbformat_minor": 5
}
